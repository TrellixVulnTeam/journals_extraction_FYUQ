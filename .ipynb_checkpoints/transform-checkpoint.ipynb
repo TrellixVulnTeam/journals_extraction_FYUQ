{
 "cells": [
  {
   "cell_type": "code",
   "execution_count": 2,
   "metadata": {},
   "outputs": [],
   "source": [
    "import numpy as np \n",
    "import pandas as pd\n",
    "# import matplotlib.pyplot as plt\n",
    "# import seaborn as sns\n",
    "import warnings\n",
    "warnings.filterwarnings('ignore')\n",
    "# %matplotlib inline"
   ]
  },
  {
   "cell_type": "code",
   "execution_count": 3,
   "metadata": {},
   "outputs": [
    {
     "data": {
      "text/html": [
       "<div>\n",
       "<style scoped>\n",
       "    .dataframe tbody tr th:only-of-type {\n",
       "        vertical-align: middle;\n",
       "    }\n",
       "\n",
       "    .dataframe tbody tr th {\n",
       "        vertical-align: top;\n",
       "    }\n",
       "\n",
       "    .dataframe thead th {\n",
       "        text-align: right;\n",
       "    }\n",
       "</style>\n",
       "<table border=\"1\" class=\"dataframe\">\n",
       "  <thead>\n",
       "    <tr style=\"text-align: right;\">\n",
       "      <th></th>\n",
       "      <th>ACCOUNT_CODE</th>\n",
       "      <th>ACCOUNT_NAME</th>\n",
       "      <th>JOURNAL_NUMBER</th>\n",
       "      <th>FSLI</th>\n",
       "      <th>FS_HEADER</th>\n",
       "      <th>ENTRY_DATE</th>\n",
       "      <th>EFFECTIVE_DATE</th>\n",
       "      <th>PERIOD</th>\n",
       "      <th>DEBIT_CREDIT</th>\n",
       "      <th>TRANSACTION_AMOUNT</th>\n",
       "      <th>TRANSACTION_CURRENCY</th>\n",
       "      <th>BASE_AMOUNT</th>\n",
       "      <th>ABS BASE_AMOUNT</th>\n",
       "      <th>BASE_CURRENCY</th>\n",
       "      <th>TRANSACTION_REFERENCE</th>\n",
       "      <th>JOURNAL_TYPE</th>\n",
       "      <th>USER_ID</th>\n",
       "      <th>MANUAL_AUTOMATED</th>\n",
       "      <th>POSTING_DAY</th>\n",
       "    </tr>\n",
       "  </thead>\n",
       "  <tbody>\n",
       "    <tr>\n",
       "      <th>0</th>\n",
       "      <td>3608401</td>\n",
       "      <td>Transmission costs</td>\n",
       "      <td>19763</td>\n",
       "      <td>Admin expenses</td>\n",
       "      <td>Expense</td>\n",
       "      <td>2018-01-03</td>\n",
       "      <td>2017-12-31</td>\n",
       "      <td>2018/001</td>\n",
       "      <td>C</td>\n",
       "      <td>-4003371.0</td>\n",
       "      <td>UGX</td>\n",
       "      <td>-4003371.0</td>\n",
       "      <td>4003371.0</td>\n",
       "      <td>UGX</td>\n",
       "      <td>Data transmission EMTO VODACOM -Dec 17</td>\n",
       "      <td>GL200</td>\n",
       "      <td>GLT</td>\n",
       "      <td>AUTOMATED</td>\n",
       "      <td>Wed</td>\n",
       "    </tr>\n",
       "    <tr>\n",
       "      <th>1</th>\n",
       "      <td>2421201</td>\n",
       "      <td>Accruals for invoices from 3rd p. not yet rece...</td>\n",
       "      <td>19763</td>\n",
       "      <td>Accounts payable</td>\n",
       "      <td>Liabilities</td>\n",
       "      <td>2018-01-03</td>\n",
       "      <td>2017-12-31</td>\n",
       "      <td>2018/001</td>\n",
       "      <td>D</td>\n",
       "      <td>4003371.0</td>\n",
       "      <td>UGX</td>\n",
       "      <td>4003371.0</td>\n",
       "      <td>4003371.0</td>\n",
       "      <td>UGX</td>\n",
       "      <td>Data transmission EMTO VODACOM -Dec 17</td>\n",
       "      <td>GL200</td>\n",
       "      <td>GLT</td>\n",
       "      <td>AUTOMATED</td>\n",
       "      <td>Wed</td>\n",
       "    </tr>\n",
       "    <tr>\n",
       "      <th>2</th>\n",
       "      <td>3501102</td>\n",
       "      <td>Overtime</td>\n",
       "      <td>19763</td>\n",
       "      <td>Admin expenses</td>\n",
       "      <td>Expense</td>\n",
       "      <td>2018-01-03</td>\n",
       "      <td>2017-12-31</td>\n",
       "      <td>2018/001</td>\n",
       "      <td>C</td>\n",
       "      <td>-5315607.0</td>\n",
       "      <td>UGX</td>\n",
       "      <td>-5315607.0</td>\n",
       "      <td>5315607.0</td>\n",
       "      <td>UGX</td>\n",
       "      <td>Overtime Exp accr Dec 17</td>\n",
       "      <td>GL200</td>\n",
       "      <td>GLT</td>\n",
       "      <td>AUTOMATED</td>\n",
       "      <td>Wed</td>\n",
       "    </tr>\n",
       "    <tr>\n",
       "      <th>3</th>\n",
       "      <td>3501102</td>\n",
       "      <td>Overtime</td>\n",
       "      <td>19763</td>\n",
       "      <td>Admin expenses</td>\n",
       "      <td>Expense</td>\n",
       "      <td>2018-01-03</td>\n",
       "      <td>2017-12-31</td>\n",
       "      <td>2018/001</td>\n",
       "      <td>C</td>\n",
       "      <td>-3651355.0</td>\n",
       "      <td>UGX</td>\n",
       "      <td>-3651355.0</td>\n",
       "      <td>3651355.0</td>\n",
       "      <td>UGX</td>\n",
       "      <td>Overtime Exp accr Dec 17</td>\n",
       "      <td>GL200</td>\n",
       "      <td>GLT</td>\n",
       "      <td>AUTOMATED</td>\n",
       "      <td>Wed</td>\n",
       "    </tr>\n",
       "    <tr>\n",
       "      <th>4</th>\n",
       "      <td>3501102</td>\n",
       "      <td>Overtime</td>\n",
       "      <td>19763</td>\n",
       "      <td>Admin expenses</td>\n",
       "      <td>Expense</td>\n",
       "      <td>2018-01-03</td>\n",
       "      <td>2017-12-31</td>\n",
       "      <td>2018/001</td>\n",
       "      <td>C</td>\n",
       "      <td>-442169.0</td>\n",
       "      <td>UGX</td>\n",
       "      <td>-442169.0</td>\n",
       "      <td>442169.0</td>\n",
       "      <td>UGX</td>\n",
       "      <td>Overtime Exp accr Dec 17</td>\n",
       "      <td>GL200</td>\n",
       "      <td>GLT</td>\n",
       "      <td>AUTOMATED</td>\n",
       "      <td>Wed</td>\n",
       "    </tr>\n",
       "  </tbody>\n",
       "</table>\n",
       "</div>"
      ],
      "text/plain": [
       "  ACCOUNT_CODE                                       ACCOUNT_NAME  \\\n",
       "0      3608401                                 Transmission costs   \n",
       "1      2421201  Accruals for invoices from 3rd p. not yet rece...   \n",
       "2      3501102                                           Overtime   \n",
       "3      3501102                                           Overtime   \n",
       "4      3501102                                           Overtime   \n",
       "\n",
       "   JOURNAL_NUMBER              FSLI    FS_HEADER ENTRY_DATE EFFECTIVE_DATE  \\\n",
       "0           19763    Admin expenses      Expense 2018-01-03     2017-12-31   \n",
       "1           19763  Accounts payable  Liabilities 2018-01-03     2017-12-31   \n",
       "2           19763    Admin expenses      Expense 2018-01-03     2017-12-31   \n",
       "3           19763    Admin expenses      Expense 2018-01-03     2017-12-31   \n",
       "4           19763    Admin expenses      Expense 2018-01-03     2017-12-31   \n",
       "\n",
       "     PERIOD DEBIT_CREDIT  TRANSACTION_AMOUNT TRANSACTION_CURRENCY  \\\n",
       "0  2018/001            C          -4003371.0                UGX     \n",
       "1  2018/001            D           4003371.0                UGX     \n",
       "2  2018/001            C          -5315607.0                UGX     \n",
       "3  2018/001            C          -3651355.0                UGX     \n",
       "4  2018/001            C           -442169.0                UGX     \n",
       "\n",
       "   BASE_AMOUNT  ABS BASE_AMOUNT BASE_CURRENCY  \\\n",
       "0   -4003371.0        4003371.0           UGX   \n",
       "1    4003371.0        4003371.0           UGX   \n",
       "2   -5315607.0        5315607.0           UGX   \n",
       "3   -3651355.0        3651355.0           UGX   \n",
       "4    -442169.0         442169.0           UGX   \n",
       "\n",
       "                    TRANSACTION_REFERENCE JOURNAL_TYPE USER_ID  \\\n",
       "0  Data transmission EMTO VODACOM -Dec 17        GL200     GLT   \n",
       "1  Data transmission EMTO VODACOM -Dec 17        GL200     GLT   \n",
       "2                Overtime Exp accr Dec 17        GL200     GLT   \n",
       "3                Overtime Exp accr Dec 17        GL200     GLT   \n",
       "4                Overtime Exp accr Dec 17        GL200     GLT   \n",
       "\n",
       "  MANUAL_AUTOMATED POSTING_DAY  \n",
       "0        AUTOMATED         Wed  \n",
       "1        AUTOMATED         Wed  \n",
       "2        AUTOMATED         Wed  \n",
       "3        AUTOMATED         Wed  \n",
       "4        AUTOMATED         Wed  "
      ]
     },
     "execution_count": 3,
     "metadata": {},
     "output_type": "execute_result"
    }
   ],
   "source": [
    "master = pd.read_excel('data/source/all_data.xlsx', sheet_name='Sheet2', parse_dates=['ENTRY_DATE', 'EFFECTIVE_DATE'])\n",
    "slave_1 = pd.read_excel('data/source/all_data.xlsx', sheet_name='Sheet2', parse_dates=['ENTRY_DATE', 'EFFECTIVE_DATE'])\n",
    "previous_names = master.columns.tolist()\n",
    "master.head()"
   ]
  },
  {
   "cell_type": "code",
   "execution_count": 11,
   "metadata": {},
   "outputs": [
    {
     "name": "stdout",
     "output_type": "stream",
     "text": [
      "[b'PK\\x03\\x04\\x14\\x00\\x06\\x00\\x08\\x00\\x00\\x00!\\x00|l\\x98\\x16i\\x01\\x00\\x00\\xa0\\x05\\x00\\x00\\x13\\x00\\x08\\x02[Content_Types].xml \\xa2\\x04\\x02(\\xa0\\x00\\x02\\x00\\x00\\x00\\x00\\x00\\x00\\x00\\x00\\x00\\x00\\x00\\x00\\x00\\x00\\x00\\x00\\x00\\x00\\x00\\x00\\x00\\x00\\x00\\x00\\x00\\x00\\x00\\x00\\x00\\x00\\x00\\x00\\x00\\x00\\x00\\x00\\x00\\x00\\x00\\x00\\x00\\x00\\x00\\x00\\x00\\x00\\x00\\x00\\x00\\x00\\x00\\x00\\x00\\x00\\x00\\x00\\x00\\x00\\x00\\x00\\x00\\x00\\x00\\x00\\x00\\x00\\x00\\x00\\x00\\x00\\x00\\x00\\x00\\x00\\x00\\x00\\x00\\x00\\x00\\x00\\x00\\x00\\x00\\x00\\x00\\x00\\x00\\x00\\x00\\x00\\x00\\x00\\x00\\x00\\x00\\x00\\x00\\x00\\x00\\x00\\x00\\x00\\x00\\x00\\x00\\x00\\x00\\x00\\x00\\x00\\x00\\x00\\x00\\x00\\x00\\x00\\x00\\x00\\x00\\x00\\x00\\x00\\x00\\x00\\x00\\x00\\x00\\x00\\x00\\x00\\x00\\x00\\x00\\x00\\x00\\x00\\x00\\x00\\x00\\x00\\x00\\x00\\x00\\x00\\x00\\x00\\x00\\x00\\x00\\x00\\x00\\x00\\x00\\x00\\x00\\x00\\x00\\x00\\x00\\x00\\x00\\x00\\x00\\x00\\x00\\x00\\x00\\x00\\x00\\x00\\x00\\x00\\x00\\x00\\x00\\x00\\x00\\x00\\x00\\x00\\x00\\x00\\x00\\x00\\x00\\x00\\x00\\x00\\x00\\x00\\x00\\x00\\x00\\x00\\x00\\x00\\x00\\x00\\x00\\x00\\x00\\x00\\x00\\x00\\x00\\x00\\x00\\x00\\x00\\x00\\x00\\x00\\x00\\x00\\x00\\x00\\x00\\x00\\x00\\x00\\x00\\x00\\x00\\x00\\x00\\x00\\x00\\x00\\x00\\x00\\x00\\x00\\x00\\x00\\x00\\x00\\x00\\x00\\x00\\x00\\x00\\x00\\x00\\x00\\x00\\x00\\x00\\x00\\x00\\x00\\x00\\x00\\x00\\x00\\x00\\x00\\x00\\x00\\x00\\x00\\x00\\x00\\x00\\x00\\x00\\x00\\x00\\x00\\x00\\x00\\x00\\x00\\x00\\x00\\x00\\x00\\x00\\x00\\x00\\x00\\x00\\x00\\x00\\x00\\x00\\x00\\x00\\x00\\x00\\x00\\x00\\x00\\x00\\x00\\x00\\x00\\x00\\x00\\x00\\x00\\x00\\x00\\x00\\x00\\x00\\x00\\x00\\x00\\x00\\x00\\x00\\x00\\x00\\x00\\x00\\x00\\x00\\x00\\x00\\x00\\x00\\x00\\x00\\x00\\x00\\x00\\x00\\x00\\x00\\x00\\x00\\x00\\x00\\x00\\x00\\x00\\x00\\x00\\x00\\x00\\x00\\x00\\x00\\x00\\x00\\x00\\x00\\x00\\x00\\x00\\x00\\x00\\x00\\x00\\x00\\x00\\x00\\x00\\x00\\x00\\x00\\x00\\x00\\x00\\x00\\x00\\x00\\x00\\x00\\x00\\x00\\x00\\x00\\x00\\x00\\x00\\x00\\x00\\x00\\x00\\x00\\x00\\x00\\x00\\x00\\x00\\x00\\x00\\x00\\x00\\x00\\x00\\x00\\x00\\x00\\x00\\x00\\x00\\x00\\x00\\x00\\x00\\x00\\x00\\x00\\x00\\x00\\x00\\x00\\x00\\x00\\x00\\x00\\x00\\x00\\x00\\x00\\x00\\x00\\x00\\x00\\x00\\x00\\x00\\x00\\x00\\x00\\x00\\x00\\x00\\x00\\x00\\x00\\x00\\x00\\x00\\x00\\x00\\x00\\x00\\x00\\x00\\x00\\x00\\x00\\x00\\x00\\x00\\x00\\x00\\x00\\x00\\x00\\x00\\x00\\x00\\x00\\x00\\x00\\x00\\x00\\x00\\x00\\x00\\x00\\x00\\x00\\x00\\x00\\x00\\x00\\x00\\x00\\x00\\x00\\x00\\x00\\x00\\x00\\x00\\x00\\x00\\x00\\x00\\x00\\x00\\x00\\x00\\x00\\x00\\x00\\x00\\x00\\x00\\x00\\x00\\x00\\x00\\x00\\x00\\x00\\x00\\x00\\x00\\x00\\x00\\x00\\x00\\x00\\x00\\x00\\x00\\xcc\\x94\\xdfj\\xc20\\x14\\xc6\\xef\\x07{\\x87\\x92\\xdb\\xd1D\\x1d\\x8c1\\xac^\\xec\\xcf\\xe5&\\xcc=@\\xd6\\x9c\\xda`\\x9a\\x84\\x9c\\xe8\\xf4\\xedw\\x1au\\x8c\\xd1)\\xa2\\xb0\\xdd4\\xb4\\xc9\\xf9\\xbe_O\\x92o8^5&[B@\\xedl\\xc1\\xfa\\xbc\\xc72\\xb0\\xa5S\\xda\\xce\\n', b'\\xf66}\\xcaoY\\x86QZ%\\x8d\\xb3P\\xb05 \\x1b\\x8f./\\x86\\xd3\\xb5\\x07\\xcc\\xa8\\xdab\\xc1\\xea\\x18\\xfd\\x9d\\x10X\\xd6\\xd0H\\xe4\\xce\\x83\\xa5\\x99\\xca\\x85FFz\\r3\\xe1e9\\x973\\x10\\x83^\\xefF\\x94\\xceF\\xb01\\x8f\\xad\\x06\\x1b\\r\\x1f\\xa0\\x92\\x0b\\x13\\xb3\\xc7\\x15}\\xde\\x90\\x040\\xc8\\xb2\\xfb\\xcd\\xc2\\xd6\\xab`\\xd2{\\xa3K\\x19\\x89T,\\xad\\xfa\\xe1\\x92o\\x1d8U\\xa65Xk\\x8fW\\x84\\xc1D\\xa7C;\\xf3\\xbb\\xc1\\xb6\\xee\\x85Z\\x13\\xb4\\x82l\"C|\\x96\\ra\\x88\\x95\\x11\\x1f.\\xcc\\xdf\\x9d\\x9b\\xf3\\xfd\"\\x1d\\x94\\xae\\xaat\\t\\xca\\x95\\x8b\\x86:\\xc0\\xd1\\x07\\x90\\n', b'k\\x80\\xd8\\x18\\x9eF\\xdeHmw\\xdc{\\xfc\\xd3b\\x14i\\xe8\\x9f\\x19\\xa4\\xfd\\xbf$|$\\xc7\\xe0\\x9fp\\\\\\xff\\x11G\\xa4\\xf3\\x0f\"=O\\xdf\\x92$s`\\x030\\xae\\r\\xe0\\xb9\\x8fa\\x12=\\xe4\\\\\\xcb\\x00\\xea5\\x06J\\x8a\\xb3\\x03|\\xd7\\xde\\xc7A\\xf7h\\x12\\x9cGJ\\x94\\x00\\xc7wa\\x17\\x19mu\\xeeI\\x08B\\xd4\\xf0\\x15\\x1a]\\x97\\xef\\xcb\\x91\\xd2\\xe8\\xe4\\xb6C\\x9bw\\n', b'T\\x87\\xb7H\\xf9:\\xfa\\x04\\x00\\x00\\xff\\xff\\x03\\x00PK\\x03\\x04\\x14\\x00\\x06\\x00\\x08\\x00\\x00\\x00!\\x00\\xb5U0#\\xf4\\x00\\x00\\x00L\\x02\\x00\\x00\\x0b\\x00\\x08\\x02_rels/.rels \\xa2\\x04\\x02(\\xa0\\x00\\x02\\x00\\x00\\x00\\x00\\x00\\x00\\x00\\x00\\x00\\x00\\x00\\x00\\x00\\x00\\x00\\x00\\x00\\x00\\x00\\x00\\x00\\x00\\x00\\x00\\x00\\x00\\x00\\x00\\x00\\x00\\x00\\x00\\x00\\x00\\x00\\x00\\x00\\x00\\x00\\x00\\x00\\x00\\x00\\x00\\x00\\x00\\x00\\x00\\x00\\x00\\x00\\x00\\x00\\x00\\x00\\x00\\x00\\x00\\x00\\x00\\x00\\x00\\x00\\x00\\x00\\x00\\x00\\x00\\x00\\x00\\x00\\x00\\x00\\x00\\x00\\x00\\x00\\x00\\x00\\x00\\x00\\x00\\x00\\x00\\x00\\x00\\x00\\x00\\x00\\x00\\x00\\x00\\x00\\x00\\x00\\x00\\x00\\x00\\x00\\x00\\x00\\x00\\x00\\x00\\x00\\x00\\x00\\x00\\x00\\x00\\x00\\x00\\x00\\x00\\x00\\x00\\x00\\x00\\x00\\x00\\x00\\x00\\x00\\x00\\x00\\x00\\x00\\x00\\x00\\x00\\x00\\x00\\x00\\x00\\x00\\x00\\x00\\x00\\x00\\x00\\x00\\x00\\x00\\x00\\x00\\x00\\x00\\x00\\x00\\x00\\x00\\x00\\x00\\x00\\x00\\x00\\x00\\x00\\x00\\x00\\x00\\x00\\x00\\x00\\x00\\x00\\x00\\x00\\x00\\x00\\x00\\x00\\x00\\x00\\x00\\x00\\x00\\x00\\x00\\x00\\x00\\x00\\x00\\x00\\x00\\x00\\x00\\x00\\x00\\x00\\x00\\x00\\x00\\x00\\x00\\x00\\x00\\x00\\x00\\x00\\x00\\x00\\x00\\x00\\x00\\x00\\x00\\x00\\x00\\x00\\x00\\x00\\x00\\x00\\x00\\x00\\x00\\x00\\x00\\x00\\x00\\x00\\x00\\x00\\x00\\x00\\x00\\x00\\x00\\x00\\x00\\x00\\x00\\x00\\x00\\x00\\x00\\x00\\x00\\x00\\x00\\x00\\x00\\x00\\x00\\x00\\x00\\x00\\x00\\x00\\x00\\x00\\x00\\x00\\x00\\x00\\x00\\x00\\x00\\x00\\x00\\x00\\x00\\x00\\x00\\x00\\x00\\x00\\x00\\x00\\x00\\x00\\x00\\x00\\x00\\x00\\x00\\x00\\x00\\x00\\x00\\x00\\x00\\x00\\x00\\x00\\x00\\x00\\x00\\x00\\x00\\x00\\x00\\x00\\x00\\x00\\x00\\x00\\x00\\x00\\x00\\x00\\x00\\x00\\x00\\x00\\x00\\x00\\x00\\x00\\x00\\x00\\x00\\x00\\x00\\x00\\x00\\x00\\x00\\x00\\x00\\x00\\x00\\x00\\x00\\x00\\x00\\x00\\x00\\x00\\x00\\x00\\x00\\x00\\x00\\x00\\x00\\x00\\x00\\x00\\x00\\x00\\x00\\x00\\x00\\x00\\x00\\x00\\x00\\x00\\x00\\x00\\x00\\x00\\x00\\x00\\x00\\x00\\x00\\x00\\x00\\x00\\x00\\x00\\x00\\x00\\x00\\x00\\x00\\x00\\x00\\x00\\x00\\x00\\x00\\x00\\x00\\x00\\x00\\x00\\x00\\x00\\x00\\x00\\x00\\x00\\x00\\x00\\x00\\x00\\x00\\x00\\x00\\x00\\x00\\x00\\x00\\x00\\x00\\x00\\x00\\x00\\x00\\x00\\x00\\x00\\x00\\x00\\x00\\x00\\x00\\x00\\x00\\x00\\x00\\x00\\x00\\x00\\x00\\x00\\x00\\x00\\x00\\x00\\x00\\x00\\x00\\x00\\x00\\x00\\x00\\x00\\x00\\x00\\x00\\x00\\x00\\x00\\x00\\x00\\x00\\x00\\x00\\x00\\x00\\x00\\x00\\x00\\x00\\x00\\x00\\x00\\x00\\x00\\x00\\x00\\x00\\x00\\x00\\x00\\x00\\x00\\x00\\x00\\x00\\x00\\x00\\x00\\x00\\x00\\x00\\x00\\x00\\x00\\x00\\x00\\x00\\x00\\x00\\x00\\x00\\x00\\x00\\x00\\x00\\x00\\x00\\x00\\x00\\x00\\x00\\x00\\x00\\x00\\x00\\x00\\x00\\x00\\x00\\x00\\x00\\x00\\x00\\x00\\x00\\x00\\x00\\x00\\x00\\x00\\x00\\x00\\xac\\x92MO\\xc30\\x0c\\x86\\xefH\\xfc\\x87\\xc8\\xf7\\xd5\\xdd\\x90\\x10BKwAH\\xbb!T~\\x80I\\xdc\\x0f\\xb5\\x8d\\xa3$\\x1b\\xdd\\xbf\\'\\x1c\\x10T\\x1a\\x83\\x03G\\x7f\\xbd~\\xfc\\xca\\xdb\\xdd<\\x8d\\xea\\xc8!\\xf6\\xe24\\xac\\x8b\\x12\\x14;#\\xb6w\\xad\\x86\\x97\\xfaqu\\x07*&r\\x96Fq\\xac\\xe1\\xc4\\x11v\\xd5\\xf5\\xd5\\xf6\\x99GJy(v\\xbd\\x8f*\\xab\\xb8\\xa8\\xa1K\\xc9\\xdf#F\\xd3\\xf1D\\xb1\\x10\\xcf.W\\x1a\\t\\x13\\xa5\\x1c\\x86\\x16=\\x99\\x81Z\\xc6MY\\xdeb\\xf8\\xae\\x01\\xd5BS\\xed\\xad\\x86\\xb0\\xb77\\xa0\\xea\\x93\\xcf\\x9b\\x7f\\xd7\\x96\\xa6\\xe9\\r?\\x889L\\xec\\xd2\\x99\\x15\\xc8sbg\\xd9\\xae|\\xc8l!\\xf5\\xf9\\x1aUSh9i\\xb0b\\x9er:\"y_dl\\xc0\\xf3D\\x9b\\xbf\\x13\\xfd|-N\\x9c\\xc8R\"4\\x12\\xf82\\xcfG\\xc7%\\xa0\\xf5\\x7fZ\\xb44\\xf1\\xcb\\x9dy\\xc47\\t\\xc3\\xab\\xc8\\xf0\\xc9\\x82\\x8b\\x1f\\xa8\\xde\\x01\\x00\\x00\\xff\\xff\\x03\\x00PK\\x03\\x04\\x14\\x00\\x06\\x00\\x08\\x00\\x00\\x00!\\x00\\xde\\t\\xfd(\\x02\\x01\\x00\\x00\\xd4\\x03\\x00\\x00\\x1a\\x00\\x08\\x01xl/_rels/workbook.xml.rels \\xa2\\x04\\x01(\\xa0\\x00\\x01\\x00\\x00\\x00\\x00\\x00\\x00\\x00\\x00\\x00\\x00\\x00\\x00\\x00\\x00\\x00\\x00\\x00\\x00\\x00\\x00\\x00\\x00\\x00\\x00\\x00\\x00\\x00\\x00\\x00\\x00\\x00\\x00\\x00\\x00\\x00\\x00\\x00\\x00\\x00\\x00\\x00\\x00\\x00\\x00\\x00\\x00\\x00\\x00\\x00\\x00\\x00\\x00\\x00\\x00\\x00\\x00\\x00\\x00\\x00\\x00\\x00\\x00\\x00\\x00\\x00\\x00\\x00\\x00\\x00\\x00\\x00\\x00\\x00\\x00\\x00\\x00\\x00\\x00\\x00\\x00\\x00\\x00\\x00\\x00\\x00\\x00\\x00\\x00\\x00\\x00\\x00\\x00\\x00\\x00\\x00\\x00\\x00\\x00\\x00\\x00\\x00\\x00\\x00\\x00\\x00\\x00\\x00\\x00\\x00\\x00\\x00\\x00\\x00\\x00\\x00\\x00\\x00\\x00\\x00\\x00\\x00\\x00\\x00\\x00\\x00\\x00\\x00\\x00\\x00\\x00\\x00\\x00\\x00\\x00\\x00\\x00\\x00\\x00\\x00\\x00\\x00\\x00\\x00\\x00\\x00\\x00\\x00\\x00\\x00\\x00\\x00\\x00\\x00\\x00\\x00\\x00\\x00\\x00\\x00\\x00\\x00\\x00\\x00\\x00\\x00\\x00\\x00\\x00\\x00\\x00\\x00\\x00\\x00\\x00\\x00\\x00\\x00\\x00\\x00\\x00\\x00\\x00\\x00\\x00\\x00\\x00\\x00\\x00\\x00\\x00\\x00\\x00\\x00\\x00\\x00\\x00\\x00\\x00\\x00\\x00\\x00\\x00\\x00\\x00\\x00\\x00\\x00\\x00\\x00\\x00\\x00\\x00\\x00\\x00\\x00\\x00\\x00\\x00\\x00\\x00\\x00\\x00\\x00\\x00\\x00\\x00\\x00\\x00\\x00\\x00\\x00\\x00\\x00\\x00\\x00\\x00\\x00\\x00\\x00\\x00\\x00\\x00\\x00\\x00\\x00\\x00\\x00\\x00\\x00\\x00\\x00\\x00\\x00\\x00\\x00\\x00\\xbc\\x93\\xcfj\\xc30\\x0c\\xc6\\xef\\x83\\xbd\\x83\\xd1}q\\x92ne\\x94:\\xbd\\x8cA\\xaf[\\xf7\\x00&Q\\xe2\\xd0\\xc46\\x96\\xf6\\'o?\\x93C\\xba@\\xc9.\\xa1\\x17\\x83$\\xfc}?\\xd0\\xa7\\xfd\\xe1\\xa7\\xef\\xc4\\x17\\x06j\\x9dU\\x90%)\\x08\\xb4\\xa5\\xabZ\\xdb(\\xf88\\xbd><\\x83 \\xd6\\xb6\\xd2\\x9d\\xb3\\xa8`@\\x82Cq\\x7f\\xb7\\x7f\\xc3Ns\\xfcD\\xa6\\xf5$\\xa2\\x8a%\\x05\\x86\\xd9\\xef\\xa4\\xa4\\xd2`\\xaf)q\\x1em\\x9c\\xd4.\\xf4\\x9ac\\x19\\x1a\\xe9uy\\xd6\\r\\xca<M\\xb72\\xfc\\xd5\\x80b\\xa6)\\x8e\\x95\\x82p\\xac6 N\\x83\\x8f\\xce\\xffk\\xbb\\xbanK|q\\xe5g\\x8f\\x96\\xafX\\xc8o\\x17\\xced\\x109\\x8a\\xea\\xd0 +\\x98Z$\\xc7\\xc9&\\x89\\xc4 \\xaf\\xc3\\xe47\\x86\\xc9\\x97`\\xb2\\x1b\\xc3dK0\\xdb5a\\xc8\\xe8\\x80\\xd5;\\x87\\x98B\\xba\\xacj\\xd6^\\x82yZ\\x15\\x86\\x87.\\x86~\\n', b'\\x0c\\x8d\\xf5\\x92\\xfd\\xe3\\x9a\\xf6\\x1cO\\t/\\xeec)\\xc7w\\xda\\x87\\x9c\\xddb\\xf1\\x0b\\x00\\x00\\xff\\xff\\x03\\x00PK\\x03\\x04\\x14\\x00\\x06\\x00\\x08\\x00\\x00\\x00!\\x00\\xf8\\xb7\\xd0\\x06\\x8a\\x02\\x00\\x00E\\x05\\x00\\x00\\x0f\\x00\\x00\\x00xl/workbook.xml\\xacT\\xdfo\\xda0\\x10~\\x9f\\xb4\\xff\\xc1\\xf2;\\xcd\\x0f\\x02-\\x88P\\xb5\\xc0\\xb6J]Uu\\xb4}\\x89T\\x1d\\x89C,\\x1c;\\xb3\\x9d\\x02\\x9a\\xf6\\xbf\\xef\\x9c,\\x8c\\x8d\\x97N\\xdbK\\xec\\xb3\\xcf\\xdf\\xdd}\\xf7]&\\x97\\xbbR\\x90W\\xa6\\rW2\\xa6\\xc1\\x99O\\t\\x93\\xa9\\xca\\xb8\\\\\\xc7\\xf4q\\xf9\\xa1wA\\x89\\xb1 3\\x10J\\xb2\\x98\\xee\\x99\\xa1\\x97\\xd3\\xf7\\xef&[\\xa57+\\xa56\\x04\\x01\\xa4\\x89iam5\\xf6<\\x93\\x16\\xac\\x04s\\xa6*&\\xf1&W\\xba\\x04\\x8b\\xa6^{\\xa6\\xd2\\x0c2S0fK\\xe1\\x85\\xbe?\\xf4J\\xe0\\x92\\xb6\\x08c\\xfd\\x16\\x0c\\x95\\xe7<es\\x95\\xd6%\\x93\\xb6\\x05\\xd1L\\x80\\xc5\\xf4M\\xc1+\\xd3\\xa1\\x95\\xe9[\\xe0J\\xd0\\x9b\\xba\\xea\\xa5\\xaa\\xac\\x10b\\xc5\\x05\\xb7\\xfb\\x06\\x94\\x922\\x1d\\xdf\\xac\\xa5\\xd2\\xb0\\x12X\\xf6.\\x18t\\xc8\\xb8=\\x81.y\\xaa\\x95Q\\xb9=C(\\xafM\\xf2\\xa4\\xde\\xc0\\xf7\\x82\\xa0-y:\\xc9\\xb9`O-\\xed\\x04\\xaa\\xea\\x0eJ\\x17EP\"\\xc0\\xd8E\\xc6-\\xcbb:DSm\\xd9o\\x07\\xba\\xae\\xaek.\\xf06\\x88\\xa2\\xd0\\xa7\\xde\\xf4\\xd0\\x8a{M2\\x96C-\\xec\\x12\\x9b\\xd0\\xc1\\xa3\\xe30\\xf2\\x83\\xc0ybQW\\xc22-\\xc1\\xb2\\x99\\x92\\x169\\xfc\\xc9\\xfe\\xbf\\xf2\\xd5`\\xcf\\n']\n"
     ]
    },
    {
     "ename": "AttributeError",
     "evalue": "'list' object has no attribute 'head'",
     "output_type": "error",
     "traceback": [
      "\u001b[1;31m---------------------------------------------------------------------------\u001b[0m",
      "\u001b[1;31mAttributeError\u001b[0m                            Traceback (most recent call last)",
      "\u001b[1;32m<ipython-input-11-bc489c998d42>\u001b[0m in \u001b[0;36m<module>\u001b[1;34m\u001b[0m\n\u001b[0;32m      3\u001b[0m     \u001b[0mhead\u001b[0m \u001b[1;33m=\u001b[0m \u001b[1;33m[\u001b[0m\u001b[0mnext\u001b[0m\u001b[1;33m(\u001b[0m\u001b[0mmyfile\u001b[0m\u001b[1;33m)\u001b[0m \u001b[1;32mfor\u001b[0m \u001b[0mx\u001b[0m \u001b[1;32min\u001b[0m \u001b[0mrange\u001b[0m\u001b[1;33m(\u001b[0m\u001b[0mN\u001b[0m\u001b[1;33m)\u001b[0m\u001b[1;33m]\u001b[0m\u001b[1;33m\u001b[0m\u001b[1;33m\u001b[0m\u001b[0m\n\u001b[0;32m      4\u001b[0m \u001b[0mprint\u001b[0m\u001b[1;33m(\u001b[0m\u001b[0mhead\u001b[0m\u001b[1;33m)\u001b[0m\u001b[1;33m\u001b[0m\u001b[1;33m\u001b[0m\u001b[0m\n\u001b[1;32m----> 5\u001b[1;33m \u001b[0mhead\u001b[0m\u001b[1;33m.\u001b[0m\u001b[0mhead\u001b[0m\u001b[1;33m(\u001b[0m\u001b[1;33m)\u001b[0m\u001b[1;33m\u001b[0m\u001b[1;33m\u001b[0m\u001b[0m\n\u001b[0m",
      "\u001b[1;31mAttributeError\u001b[0m: 'list' object has no attribute 'head'"
     ]
    }
   ],
   "source": [
    "N=5\n",
    "with open(\"data/source/all_data.xlsx\", 'rb') as myfile:\n",
    "    head = [next(myfile) for x in range(N)]\n",
    "print(head)\n",
    "head.head()"
   ]
  },
  {
   "cell_type": "code",
   "execution_count": 18,
   "metadata": {},
   "outputs": [
    {
     "data": {
      "text/plain": [
       "['all_data',\n",
       " \"DHL Int'l Dec 2018 Mapped TB\",\n",
       " 'Journal Detail_UG',\n",
       " 'one_row',\n",
       " 'User ID Codes']"
      ]
     },
     "execution_count": 18,
     "metadata": {},
     "output_type": "execute_result"
    }
   ],
   "source": [
    "import os\n",
    "file_names = []\n",
    "file_extensions = []\n",
    "\n",
    "for f in os.listdir(\"data/source/\"):\n",
    "    file_extensions.append(f)\n",
    "    file_names.append(f.split(\".\")[0])\n",
    "file_names"
   ]
  },
  {
   "cell_type": "code",
   "execution_count": 15,
   "metadata": {},
   "outputs": [
    {
     "data": {
      "text/plain": [
       "['ACCOUNT_CODE',\n",
       " 'ACCOUNT_NAME',\n",
       " 'JOURNAL_NUMBER',\n",
       " 'FSLI',\n",
       " 'FS_HEADER',\n",
       " 'ENTRY_DATE',\n",
       " 'EFFECTIVE_DATE',\n",
       " 'PERIOD',\n",
       " 'DEBIT_CREDIT',\n",
       " 'TRANSACTION_AMOUNT',\n",
       " 'TRANSACTION_CURRENCY',\n",
       " 'BASE_AMOUNT',\n",
       " 'ABS BASE_AMOUNT',\n",
       " 'BASE_CURRENCY',\n",
       " 'TRANSACTION_REFERENCE',\n",
       " 'JOURNAL_TYPE',\n",
       " 'USER_ID',\n",
       " 'MANUAL_AUTOMATED',\n",
       " 'POSTING_DAY']"
      ]
     },
     "execution_count": 15,
     "metadata": {},
     "output_type": "execute_result"
    }
   ],
   "source": [
    "previous_names"
   ]
  },
  {
   "cell_type": "code",
   "execution_count": 21,
   "metadata": {},
   "outputs": [
    {
     "data": {
      "text/plain": [
       "['all_data',\n",
       " \"DHL Int'l Dec 2018 Mapped TB\",\n",
       " 'Journal Detail_UG',\n",
       " 'one_row',\n",
       " 'User ID Codes']"
      ]
     },
     "execution_count": 21,
     "metadata": {},
     "output_type": "execute_result"
    }
   ],
   "source": [
    "master = pd.read_excel('data/source/all_data.xlsx')\n",
    "files = []\n",
    "file_counter = 0\n",
    "previous_names = []\n",
    "for file in file_names:\n",
    "    file = pd.read_excel(\"data/source/\"+file_extensions[file_counter])\n",
    "    files.append(file)\n",
    "    file_counter=file_counter+1\n",
    "    previous_names.append(file.columns.tolist())\n",
    "\n",
    "previous_names\n",
    "file_names\n",
    "files"
   ]
  },
  {
   "cell_type": "code",
   "execution_count": 25,
   "metadata": {},
   "outputs": [
    {
     "data": {
      "text/plain": [
       "'all_data'"
      ]
     },
     "execution_count": 25,
     "metadata": {},
     "output_type": "execute_result"
    }
   ],
   "source": [
    "files[0]"
   ]
  },
  {
   "cell_type": "code",
   "execution_count": 23,
   "metadata": {},
   "outputs": [
    {
     "data": {
      "text/plain": [
       "[['ACCOUNT_CODE',\n",
       "  'ACCOUNT_NAME',\n",
       "  'JOURNAL_NUMBER',\n",
       "  'FSLI',\n",
       "  'FS_HEADER',\n",
       "  'ENTRY_DATE',\n",
       "  'EFFECTIVE_DATE',\n",
       "  'PERIOD',\n",
       "  'DEBIT_CREDIT',\n",
       "  'TRANSACTION_AMOUNT',\n",
       "  'TRANSACTION_CURRENCY',\n",
       "  'BASE_AMOUNT',\n",
       "  'ABS BASE_AMOUNT',\n",
       "  'BASE_CURRENCY',\n",
       "  'TRANSACTION_REFERENCE',\n",
       "  'JOURNAL_TYPE',\n",
       "  'USER_ID',\n",
       "  'MANUAL_AUTOMATED',\n",
       "  'POSTING_DAY'],\n",
       " ['Trial Balance as at Reporting Period: 2018/012',\n",
       "  'Unnamed: 1',\n",
       "  'Unnamed: 2',\n",
       "  'Unnamed: 3',\n",
       "  'Unnamed: 4',\n",
       "  'Unnamed: 5',\n",
       "  'Unnamed: 6'],\n",
       " ['Row Labels', 'Nature of Transaction'],\n",
       " ['ACCOUNT_CODE',\n",
       "  'ACCOUNT_NAME',\n",
       "  'JOURNAL_NUMBER',\n",
       "  'FSLI',\n",
       "  'FS_HEADER',\n",
       "  'ENTRY_DATE',\n",
       "  'EFFECTIVE_DATE',\n",
       "  'PERIOD',\n",
       "  'DEBIT_CREDIT',\n",
       "  'TRANSACTION_AMOUNT',\n",
       "  'TRANSACTION_CURRENCY',\n",
       "  'BASE_AMOUNT',\n",
       "  'ABS BASE_AMOUNT',\n",
       "  'BASE_CURRENCY',\n",
       "  'TRANSACTION_REFERENCE',\n",
       "  'JOURNAL_TYPE',\n",
       "  'USER_ID',\n",
       "  'MANUAL_AUTOMATED',\n",
       "  'POSTING_DAY'],\n",
       " ['User ID', 'User Name ', 'Job Title']]"
      ]
     },
     "execution_count": 23,
     "metadata": {},
     "output_type": "execute_result"
    }
   ],
   "source": [
    "previous_names"
   ]
  },
  {
   "cell_type": "code",
   "execution_count": null,
   "metadata": {},
   "outputs": [],
   "source": []
  }
 ],
 "metadata": {
  "kernelspec": {
   "display_name": "env",
   "language": "python",
   "name": "env"
  },
  "language_info": {
   "codemirror_mode": {
    "name": "ipython",
    "version": 3
   },
   "file_extension": ".py",
   "mimetype": "text/x-python",
   "name": "python",
   "nbconvert_exporter": "python",
   "pygments_lexer": "ipython3",
   "version": "3.7.3"
  }
 },
 "nbformat": 4,
 "nbformat_minor": 2
}
